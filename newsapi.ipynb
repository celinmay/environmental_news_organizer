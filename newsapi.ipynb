{
 "cells": [
  {
   "cell_type": "code",
   "execution_count": 1,
   "metadata": {},
   "outputs": [],
   "source": []
  },
  {
   "cell_type": "code",
   "execution_count": 122,
   "metadata": {},
   "outputs": [],
   "source": [
    "from newsapi import NewsApiClient"
   ]
  },
  {
   "cell_type": "code",
   "execution_count": 123,
   "metadata": {},
   "outputs": [],
   "source": [
    "newsapi = NewsApiClient (api_key = \"f155f3a1d864433fbfadfdc7077f9b8c\")"
   ]
  },
  {
   "cell_type": "code",
   "execution_count": 182,
   "metadata": {},
   "outputs": [],
   "source": [
    "data_main_article = newsapi.get_everything(q=\"Wasserverschmutzung NOT (COVID-19 OR vocid-19)\", language=\"de\", page_size=20)"
   ]
  },
  {
   "cell_type": "code",
   "execution_count": 183,
   "metadata": {},
   "outputs": [
    {
     "data": {
      "text/plain": [
       "dict"
      ]
     },
     "execution_count": 183,
     "metadata": {},
     "output_type": "execute_result"
    }
   ],
   "source": [
    "type(data_main_article)"
   ]
  },
  {
   "cell_type": "code",
   "execution_count": 184,
   "metadata": {},
   "outputs": [
    {
     "data": {
      "text/plain": [
       "dict_keys(['status', 'totalResults', 'articles'])"
      ]
     },
     "execution_count": 184,
     "metadata": {},
     "output_type": "execute_result"
    }
   ],
   "source": [
    "data_main_article.keys()"
   ]
  },
  {
   "cell_type": "code",
   "execution_count": 185,
   "metadata": {},
   "outputs": [
    {
     "data": {
      "text/plain": [
       "'ok'"
      ]
     },
     "execution_count": 185,
     "metadata": {},
     "output_type": "execute_result"
    }
   ],
   "source": [
    "data_main_article[\"status\"]"
   ]
  },
  {
   "cell_type": "code",
   "execution_count": 186,
   "metadata": {},
   "outputs": [
    {
     "data": {
      "text/plain": [
       "3"
      ]
     },
     "execution_count": 186,
     "metadata": {},
     "output_type": "execute_result"
    }
   ],
   "source": [
    "data_main_article[\"totalResults\"]"
   ]
  },
  {
   "cell_type": "code",
   "execution_count": 187,
   "metadata": {},
   "outputs": [
    {
     "data": {
      "text/plain": [
       "int"
      ]
     },
     "execution_count": 187,
     "metadata": {},
     "output_type": "execute_result"
    }
   ],
   "source": [
    "type(data_main_article[\"totalResults\"])"
   ]
  },
  {
   "cell_type": "code",
   "execution_count": 188,
   "metadata": {},
   "outputs": [
    {
     "data": {
      "text/plain": [
       "list"
      ]
     },
     "execution_count": 188,
     "metadata": {},
     "output_type": "execute_result"
    }
   ],
   "source": [
    "type(data_main_article['articles'])"
   ]
  },
  {
   "cell_type": "code",
   "execution_count": 189,
   "metadata": {},
   "outputs": [
    {
     "data": {
      "text/plain": [
       "{'source': {'id': None, 'name': 'Orf.at'},\n",
       " 'author': 'ORF.at',\n",
       " 'title': 'Mode wird immer größeres Umweltproblem',\n",
       " 'description': None,\n",
       " 'url': 'https://orf.at/stories/3161056/',\n",
       " 'urlToImage': 'https://ibs.orf.at/news?image=https%3A%2F%2Forf.at%2Fmojo%2F1_4_1%2Fstoryserver%2Fnews%2Fcommon%2Fimages%2Fog-fallback-news.png%3Fs%3D6fd0304156999f5fb116dbe1800653666b242a18',\n",
       " 'publishedAt': '2020-04-07T20:17:51Z',\n",
       " 'content': 'Wasserverschmutzung, Ressourcenverschwendung und CO2-Emissionen gehören zu den Umweltsünden der Modeindustrie. Obwohl diese Probleme bekannt sind, scheint sich die Situation nicht zu verbessern, wie eine aktuelle Studie zeigt das Gegenteil ist der Fall.\\r\\nMehr… [+22 chars]'}"
      ]
     },
     "execution_count": 189,
     "metadata": {},
     "output_type": "execute_result"
    }
   ],
   "source": [
    "data_main_article[\"articles\"][0]"
   ]
  },
  {
   "cell_type": "code",
   "execution_count": 190,
   "metadata": {},
   "outputs": [],
   "source": [
    "articles = data_main_article[\"articles\"]"
   ]
  },
  {
   "cell_type": "code",
   "execution_count": 191,
   "metadata": {},
   "outputs": [
    {
     "name": "stdout",
     "output_type": "stream",
     "text": [
      "0 Mode wird immer größeres Umweltproblem\n",
      "1 Mode wird immer größeres Umweltproblem\n",
      "2 Krankenhaus-Abwässer fließen ungefiltert in Berliner Kanalisation\n"
     ]
    }
   ],
   "source": [
    "for x, y in enumerate(articles):\n",
    "    print(f\"{x} {y['title']}\")"
   ]
  },
  {
   "cell_type": "code",
   "execution_count": 192,
   "metadata": {},
   "outputs": [
    {
     "name": "stdout",
     "output_type": "stream",
     "text": [
      "\n",
      "source {'id': None, 'name': 'Orf.at'}\n",
      "\n",
      "author ORF.at\n",
      "\n",
      "title Mode wird immer größeres Umweltproblem\n",
      "\n",
      "description None\n",
      "\n",
      "url https://orf.at/stories/3161056/\n",
      "\n",
      "urlToImage https://ibs.orf.at/news?image=https%3A%2F%2Forf.at%2Fmojo%2F1_4_1%2Fstoryserver%2Fnews%2Fcommon%2Fimages%2Fog-fallback-news.png%3Fs%3D6fd0304156999f5fb116dbe1800653666b242a18\n",
      "\n",
      "publishedAt 2020-04-07T20:17:51Z\n",
      "\n",
      "content Wasserverschmutzung, Ressourcenverschwendung und CO2-Emissionen gehören zu den Umweltsünden der Modeindustrie. Obwohl diese Probleme bekannt sind, scheint sich die Situation nicht zu verbessern, wie eine aktuelle Studie zeigt das Gegenteil ist der Fall.\n",
      "Mehr… [+22 chars]\n"
     ]
    }
   ],
   "source": [
    "for key, value in articles[0].items():\n",
    "    print(f\"\\n{key} {value}\")"
   ]
  },
  {
   "cell_type": "code",
   "execution_count": null,
   "metadata": {},
   "outputs": [],
   "source": []
  },
  {
   "cell_type": "code",
   "execution_count": null,
   "metadata": {},
   "outputs": [],
   "source": []
  }
 ],
 "metadata": {
  "kernelspec": {
   "display_name": "Python 3",
   "language": "python",
   "name": "python3"
  },
  "language_info": {
   "codemirror_mode": {
    "name": "ipython",
    "version": 3
   },
   "file_extension": ".py",
   "mimetype": "text/x-python",
   "name": "python",
   "nbconvert_exporter": "python",
   "pygments_lexer": "ipython3",
   "version": "3.7.6"
  }
 },
 "nbformat": 4,
 "nbformat_minor": 4
}
